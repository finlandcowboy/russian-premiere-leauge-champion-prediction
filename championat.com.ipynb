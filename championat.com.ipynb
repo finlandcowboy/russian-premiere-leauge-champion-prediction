{
 "cells": [
  {
   "cell_type": "code",
   "execution_count": 1,
   "metadata": {},
   "outputs": [],
   "source": [
    "import requests\n",
    "from bs4 import BeautifulSoup"
   ]
  },
  {
   "cell_type": "code",
   "execution_count": 2,
   "metadata": {},
   "outputs": [],
   "source": [
    "from selenium import webdriver\n",
    "from selenium.webdriver.common.by import By\n",
    "import time\n",
    "from io import BytesIO\n",
    "from PIL import Image\n",
    "from matplotlib import pyplot as plt\n",
    "import base64\n",
    "import re\n",
    "from selenium.webdriver.support.ui import Select\n",
    "from tqdm import tqdm"
   ]
  },
  {
   "cell_type": "code",
   "execution_count": 82,
   "metadata": {},
   "outputs": [],
   "source": [
    "import pandas as pd"
   ]
  },
  {
   "cell_type": "code",
   "execution_count": 240,
   "metadata": {},
   "outputs": [],
   "source": [
    "def get_season_table_data(table):\n",
    "    \n",
    "    league_name = table.split('\\n')[0]\n",
    "    table.split('\\n')\n",
    "    team_names = []\n",
    "    team_in_league = 0\n",
    "    idx_team_split = {}\n",
    "    flag = 0\n",
    "    for i, elem in enumerate(table.split('\\n')[1:]):\n",
    "        if not elem.isdigit():\n",
    "            if flag == 0:\n",
    "                team_in_league = int(table.split('\\n')[1:][i-2])\n",
    "                flag = 1\n",
    "            if not ':' in elem:\n",
    "                team_names.append(elem)\n",
    "                idx_team_split[elem] = table.split('\\n').index(elem)\n",
    "    season_results = []\n",
    "\n",
    "    team_names_idx = {v+1:k for v,k in enumerate(team_names)}\n",
    "    for team in team_names:\n",
    "        c = 0\n",
    "        team_match_results = {'home':[], 'away':[], 'score':[]}\n",
    "        for i, elem in enumerate(table.split('\\n')[idx_team_split[team]+1: idx_team_split[team]+team_in_league]):\n",
    "            if team_names_idx[i+1] == team:\n",
    "                c+= 1\n",
    "            team_match_results['home'].append(team)\n",
    "            team_match_results['away'].append(team_names_idx[i+c+1])\n",
    "            team_match_results['score'].append(elem)\n",
    "        season_results.append(team_match_results)\n",
    "\n",
    "    '''\n",
    "    List of home:away:score results each of them is easily transforming to \n",
    "    a DataFrame concat using loop for\n",
    "    '''\n",
    "    return season_results"
   ]
  },
  {
   "cell_type": "code",
   "execution_count": 161,
   "metadata": {
    "collapsed": true
   },
   "outputs": [
    {
     "name": "stderr",
     "output_type": "stream",
     "text": [
      " 33%|███▎      | 10/30 [08:29<16:58, 50.95s/it]\n"
     ]
    },
    {
     "ename": "TimeoutException",
     "evalue": "Message: timeout: Timed out receiving message from renderer: 300.000\n  (Session info: chrome=91.0.4472.114)\n",
     "output_type": "error",
     "traceback": [
      "\u001b[0;31m---------------------------------------------------------------------------\u001b[0m",
      "\u001b[0;31mTimeoutException\u001b[0m                          Traceback (most recent call last)",
      "\u001b[0;32m<ipython-input-161-866c66cf5436>\u001b[0m in \u001b[0;36m<module>\u001b[0;34m\u001b[0m\n\u001b[1;32m     17\u001b[0m     \u001b[0mseason_matches_results\u001b[0m \u001b[0;34m=\u001b[0m \u001b[0mdriver\u001b[0m\u001b[0;34m.\u001b[0m\u001b[0mfind_element\u001b[0m\u001b[0;34m(\u001b[0m\u001b[0mBy\u001b[0m\u001b[0;34m.\u001b[0m\u001b[0mLINK_TEXT\u001b[0m\u001b[0;34m,\u001b[0m \u001b[0;34m\"Результаты матчей\"\u001b[0m\u001b[0;34m)\u001b[0m\u001b[0;34m\u001b[0m\u001b[0;34m\u001b[0m\u001b[0m\n\u001b[1;32m     18\u001b[0m     \u001b[0mtime\u001b[0m\u001b[0;34m.\u001b[0m\u001b[0msleep\u001b[0m\u001b[0;34m(\u001b[0m\u001b[0;36m5\u001b[0m\u001b[0;34m)\u001b[0m\u001b[0;34m\u001b[0m\u001b[0;34m\u001b[0m\u001b[0m\n\u001b[0;32m---> 19\u001b[0;31m     \u001b[0mseason_matches_results\u001b[0m\u001b[0;34m.\u001b[0m\u001b[0mclick\u001b[0m\u001b[0;34m(\u001b[0m\u001b[0;34m)\u001b[0m\u001b[0;34m\u001b[0m\u001b[0;34m\u001b[0m\u001b[0m\n\u001b[0m\u001b[1;32m     20\u001b[0m \u001b[0;34m\u001b[0m\u001b[0m\n\u001b[1;32m     21\u001b[0m     \u001b[0mresults_table\u001b[0m \u001b[0;34m=\u001b[0m \u001b[0mdriver\u001b[0m\u001b[0;34m.\u001b[0m\u001b[0mfind_element\u001b[0m\u001b[0;34m(\u001b[0m\u001b[0mBy\u001b[0m\u001b[0;34m.\u001b[0m\u001b[0mXPATH\u001b[0m\u001b[0;34m,\u001b[0m \u001b[0;34m'//*[@id=\"scrollable_table_0\"]/table'\u001b[0m\u001b[0;34m)\u001b[0m\u001b[0;34m\u001b[0m\u001b[0;34m\u001b[0m\u001b[0m\n",
      "\u001b[0;32m~/opt/anaconda3/lib/python3.8/site-packages/selenium/webdriver/remote/webelement.py\u001b[0m in \u001b[0;36mclick\u001b[0;34m(self)\u001b[0m\n\u001b[1;32m     78\u001b[0m     \u001b[0;32mdef\u001b[0m \u001b[0mclick\u001b[0m\u001b[0;34m(\u001b[0m\u001b[0mself\u001b[0m\u001b[0;34m)\u001b[0m\u001b[0;34m:\u001b[0m\u001b[0;34m\u001b[0m\u001b[0;34m\u001b[0m\u001b[0m\n\u001b[1;32m     79\u001b[0m         \u001b[0;34m\"\"\"Clicks the element.\"\"\"\u001b[0m\u001b[0;34m\u001b[0m\u001b[0;34m\u001b[0m\u001b[0m\n\u001b[0;32m---> 80\u001b[0;31m         \u001b[0mself\u001b[0m\u001b[0;34m.\u001b[0m\u001b[0m_execute\u001b[0m\u001b[0;34m(\u001b[0m\u001b[0mCommand\u001b[0m\u001b[0;34m.\u001b[0m\u001b[0mCLICK_ELEMENT\u001b[0m\u001b[0;34m)\u001b[0m\u001b[0;34m\u001b[0m\u001b[0;34m\u001b[0m\u001b[0m\n\u001b[0m\u001b[1;32m     81\u001b[0m \u001b[0;34m\u001b[0m\u001b[0m\n\u001b[1;32m     82\u001b[0m     \u001b[0;32mdef\u001b[0m \u001b[0msubmit\u001b[0m\u001b[0;34m(\u001b[0m\u001b[0mself\u001b[0m\u001b[0;34m)\u001b[0m\u001b[0;34m:\u001b[0m\u001b[0;34m\u001b[0m\u001b[0;34m\u001b[0m\u001b[0m\n",
      "\u001b[0;32m~/opt/anaconda3/lib/python3.8/site-packages/selenium/webdriver/remote/webelement.py\u001b[0m in \u001b[0;36m_execute\u001b[0;34m(self, command, params)\u001b[0m\n\u001b[1;32m    631\u001b[0m             \u001b[0mparams\u001b[0m \u001b[0;34m=\u001b[0m \u001b[0;34m{\u001b[0m\u001b[0;34m}\u001b[0m\u001b[0;34m\u001b[0m\u001b[0;34m\u001b[0m\u001b[0m\n\u001b[1;32m    632\u001b[0m         \u001b[0mparams\u001b[0m\u001b[0;34m[\u001b[0m\u001b[0;34m'id'\u001b[0m\u001b[0;34m]\u001b[0m \u001b[0;34m=\u001b[0m \u001b[0mself\u001b[0m\u001b[0;34m.\u001b[0m\u001b[0m_id\u001b[0m\u001b[0;34m\u001b[0m\u001b[0;34m\u001b[0m\u001b[0m\n\u001b[0;32m--> 633\u001b[0;31m         \u001b[0;32mreturn\u001b[0m \u001b[0mself\u001b[0m\u001b[0;34m.\u001b[0m\u001b[0m_parent\u001b[0m\u001b[0;34m.\u001b[0m\u001b[0mexecute\u001b[0m\u001b[0;34m(\u001b[0m\u001b[0mcommand\u001b[0m\u001b[0;34m,\u001b[0m \u001b[0mparams\u001b[0m\u001b[0;34m)\u001b[0m\u001b[0;34m\u001b[0m\u001b[0;34m\u001b[0m\u001b[0m\n\u001b[0m\u001b[1;32m    634\u001b[0m \u001b[0;34m\u001b[0m\u001b[0m\n\u001b[1;32m    635\u001b[0m     \u001b[0;32mdef\u001b[0m \u001b[0mfind_element\u001b[0m\u001b[0;34m(\u001b[0m\u001b[0mself\u001b[0m\u001b[0;34m,\u001b[0m \u001b[0mby\u001b[0m\u001b[0;34m=\u001b[0m\u001b[0mBy\u001b[0m\u001b[0;34m.\u001b[0m\u001b[0mID\u001b[0m\u001b[0;34m,\u001b[0m \u001b[0mvalue\u001b[0m\u001b[0;34m=\u001b[0m\u001b[0;32mNone\u001b[0m\u001b[0;34m)\u001b[0m\u001b[0;34m:\u001b[0m\u001b[0;34m\u001b[0m\u001b[0;34m\u001b[0m\u001b[0m\n",
      "\u001b[0;32m~/opt/anaconda3/lib/python3.8/site-packages/selenium/webdriver/remote/webdriver.py\u001b[0m in \u001b[0;36mexecute\u001b[0;34m(self, driver_command, params)\u001b[0m\n\u001b[1;32m    319\u001b[0m         \u001b[0mresponse\u001b[0m \u001b[0;34m=\u001b[0m \u001b[0mself\u001b[0m\u001b[0;34m.\u001b[0m\u001b[0mcommand_executor\u001b[0m\u001b[0;34m.\u001b[0m\u001b[0mexecute\u001b[0m\u001b[0;34m(\u001b[0m\u001b[0mdriver_command\u001b[0m\u001b[0;34m,\u001b[0m \u001b[0mparams\u001b[0m\u001b[0;34m)\u001b[0m\u001b[0;34m\u001b[0m\u001b[0;34m\u001b[0m\u001b[0m\n\u001b[1;32m    320\u001b[0m         \u001b[0;32mif\u001b[0m \u001b[0mresponse\u001b[0m\u001b[0;34m:\u001b[0m\u001b[0;34m\u001b[0m\u001b[0;34m\u001b[0m\u001b[0m\n\u001b[0;32m--> 321\u001b[0;31m             \u001b[0mself\u001b[0m\u001b[0;34m.\u001b[0m\u001b[0merror_handler\u001b[0m\u001b[0;34m.\u001b[0m\u001b[0mcheck_response\u001b[0m\u001b[0;34m(\u001b[0m\u001b[0mresponse\u001b[0m\u001b[0;34m)\u001b[0m\u001b[0;34m\u001b[0m\u001b[0;34m\u001b[0m\u001b[0m\n\u001b[0m\u001b[1;32m    322\u001b[0m             response['value'] = self._unwrap_value(\n\u001b[1;32m    323\u001b[0m                 response.get('value', None))\n",
      "\u001b[0;32m~/opt/anaconda3/lib/python3.8/site-packages/selenium/webdriver/remote/errorhandler.py\u001b[0m in \u001b[0;36mcheck_response\u001b[0;34m(self, response)\u001b[0m\n\u001b[1;32m    240\u001b[0m                 \u001b[0malert_text\u001b[0m \u001b[0;34m=\u001b[0m \u001b[0mvalue\u001b[0m\u001b[0;34m[\u001b[0m\u001b[0;34m'alert'\u001b[0m\u001b[0;34m]\u001b[0m\u001b[0;34m.\u001b[0m\u001b[0mget\u001b[0m\u001b[0;34m(\u001b[0m\u001b[0;34m'text'\u001b[0m\u001b[0;34m)\u001b[0m\u001b[0;34m\u001b[0m\u001b[0;34m\u001b[0m\u001b[0m\n\u001b[1;32m    241\u001b[0m             \u001b[0;32mraise\u001b[0m \u001b[0mexception_class\u001b[0m\u001b[0;34m(\u001b[0m\u001b[0mmessage\u001b[0m\u001b[0;34m,\u001b[0m \u001b[0mscreen\u001b[0m\u001b[0;34m,\u001b[0m \u001b[0mstacktrace\u001b[0m\u001b[0;34m,\u001b[0m \u001b[0malert_text\u001b[0m\u001b[0;34m)\u001b[0m\u001b[0;34m\u001b[0m\u001b[0;34m\u001b[0m\u001b[0m\n\u001b[0;32m--> 242\u001b[0;31m         \u001b[0;32mraise\u001b[0m \u001b[0mexception_class\u001b[0m\u001b[0;34m(\u001b[0m\u001b[0mmessage\u001b[0m\u001b[0;34m,\u001b[0m \u001b[0mscreen\u001b[0m\u001b[0;34m,\u001b[0m \u001b[0mstacktrace\u001b[0m\u001b[0;34m)\u001b[0m\u001b[0;34m\u001b[0m\u001b[0;34m\u001b[0m\u001b[0m\n\u001b[0m\u001b[1;32m    243\u001b[0m \u001b[0;34m\u001b[0m\u001b[0m\n\u001b[1;32m    244\u001b[0m     \u001b[0;32mdef\u001b[0m \u001b[0m_value_or_default\u001b[0m\u001b[0;34m(\u001b[0m\u001b[0mself\u001b[0m\u001b[0;34m,\u001b[0m \u001b[0mobj\u001b[0m\u001b[0;34m,\u001b[0m \u001b[0mkey\u001b[0m\u001b[0;34m,\u001b[0m \u001b[0mdefault\u001b[0m\u001b[0;34m)\u001b[0m\u001b[0;34m:\u001b[0m\u001b[0;34m\u001b[0m\u001b[0;34m\u001b[0m\u001b[0m\n",
      "\u001b[0;31mTimeoutException\u001b[0m: Message: timeout: Timed out receiving message from renderer: 300.000\n  (Session info: chrome=91.0.4472.114)\n"
     ]
    }
   ],
   "source": [
    "\n",
    "tables = {}\n",
    "screenshots = []\n",
    "url = 'https://www.championat.com/football/_russiapl/tournament/3859/'\n",
    "path_to_chrome_driver = '/Users/finlandcowboy/Downloads/chromedriver'\n",
    "driver = webdriver.Chrome(path_to_chrome_driver)\n",
    "driver.get(url)\n",
    "years = driver.find_element(By.NAME, \"year\")\n",
    "seasons = years.text.replace(' ', '').split('\\n')\n",
    "\n",
    "for season in tqdm(seasons[10:]):\n",
    "    \n",
    "    select = Select(driver.find_element(By.NAME, \"year\"))\n",
    "    \n",
    "    select.select_by_value(season)\n",
    "    time.sleep(10)\n",
    "    season_matches_results = driver.find_element(By.LINK_TEXT, \"Результаты матчей\")\n",
    "    time.sleep(5)\n",
    "    season_matches_results.click()\n",
    "\n",
    "    results_table = driver.find_element(By.XPATH, '//*[@id=\"scrollable_table_0\"]/table')\n",
    "    driver.execute_script(\"window.scrollTo(0, document.body.scrollHeight);\")\n",
    "    base64_screen = results_table.screenshot_as_base64\n",
    "\n",
    "    tables[season] = results_table.text\n",
    "    im = Image.open(BytesIO(base64.b64decode(base64_screen)))\n",
    "    screenshots.append(im)\n",
    "driver.close()\n",
    "    "
   ]
  },
  {
   "cell_type": "code",
   "execution_count": 166,
   "metadata": {},
   "outputs": [
    {
     "name": "stderr",
     "output_type": "stream",
     "text": [
      "100%|██████████| 3/3 [00:23<00:00,  7.89s/it]\n"
     ]
    }
   ],
   "source": [
    "driver = webdriver.Chrome(path_to_chrome_driver)\n",
    "driver.get(url)\n",
    "years = driver.find_element(By.NAME, \"year\")\n",
    "seasons = years.text.replace(' ', '').split('\\n')\n",
    "\n",
    "for season in tqdm(seasons[27:]):\n",
    "    select = Select(driver.find_element(By.NAME, \"year\"))\n",
    "    \n",
    "    select.select_by_value(season)\n",
    "    season_matches_results = driver.find_element(By.LINK_TEXT, \"Результаты матчей\")\n",
    "    season_matches_results.click()\n",
    "\n",
    "    results_table = driver.find_element(By.XPATH, '//*[@id=\"scrollable_table_0\"]/table')\n",
    "    driver.execute_script(\"window.scrollTo(0, document.body.scrollHeight);\")\n",
    "    base64_screen = results_table.screenshot_as_base64\n",
    "    tables[season] = results_table.text\n",
    "    im = Image.open(BytesIO(base64.b64decode(base64_screen)))\n",
    "    screenshots.append(im)\n",
    "driver.close()"
   ]
  },
  {
   "cell_type": "code",
   "execution_count": 167,
   "metadata": {},
   "outputs": [
    {
     "data": {
      "text/plain": [
       "dict_keys(['2021/2022', '2020/2021', '2019/2020', '2018/2019', '2017/2018', '2016/2017', '2015/2016', '2014/2015', '2013/2014', '2012/2013', '2011/2012', '2010', '2009', '2008', '2007', '2006', '2005', '2004', '2003', '2002', '2001', '2000', '1999', '1998', '1997', '1996', '1995', '1994', '1993', '1992'])"
      ]
     },
     "execution_count": 167,
     "metadata": {},
     "output_type": "execute_result"
    }
   ],
   "source": [
    "tables.keys()"
   ]
  },
  {
   "cell_type": "code",
   "execution_count": 241,
   "metadata": {},
   "outputs": [],
   "source": [
    "data = get_season_table_data(tables['2020/2021'])[0]\n",
    "df = pd.DataFrame(data)"
   ]
  },
  {
   "cell_type": "code",
   "execution_count": 242,
   "metadata": {},
   "outputs": [],
   "source": [
    "dfs = []\n",
    "for key in tables.keys():\n",
    "    if key == '2021/2022':\n",
    "        continue\n",
    "    data = get_season_table_data(tables[key])\n",
    "    for d in data:\n",
    "        df = pd.DataFrame(d)\n",
    "        df['year'] = key\n",
    "        dfs.append(df)\n",
    "data = pd.concat(list(map(pd.DataFrame, dfs)))"
   ]
  },
  {
   "cell_type": "code",
   "execution_count": 253,
   "metadata": {},
   "outputs": [
    {
     "data": {
      "text/html": [
       "<div>\n",
       "<style scoped>\n",
       "    .dataframe tbody tr th:only-of-type {\n",
       "        vertical-align: middle;\n",
       "    }\n",
       "\n",
       "    .dataframe tbody tr th {\n",
       "        vertical-align: top;\n",
       "    }\n",
       "\n",
       "    .dataframe thead th {\n",
       "        text-align: right;\n",
       "    }\n",
       "</style>\n",
       "<table border=\"1\" class=\"dataframe\">\n",
       "  <thead>\n",
       "    <tr style=\"text-align: right;\">\n",
       "      <th></th>\n",
       "      <th>home</th>\n",
       "      <th>away</th>\n",
       "      <th>score</th>\n",
       "      <th>year</th>\n",
       "    </tr>\n",
       "  </thead>\n",
       "  <tbody>\n",
       "    <tr>\n",
       "      <th>0</th>\n",
       "      <td>ЦСКА</td>\n",
       "      <td>Зенит</td>\n",
       "      <td>0 : 4</td>\n",
       "      <td>2019/2020</td>\n",
       "    </tr>\n",
       "    <tr>\n",
       "      <th>1</th>\n",
       "      <td>ЦСКА</td>\n",
       "      <td>Локомотив М</td>\n",
       "      <td>1 : 0</td>\n",
       "      <td>2019/2020</td>\n",
       "    </tr>\n",
       "    <tr>\n",
       "      <th>2</th>\n",
       "      <td>ЦСКА</td>\n",
       "      <td>Краснодар</td>\n",
       "      <td>3 : 2</td>\n",
       "      <td>2019/2020</td>\n",
       "    </tr>\n",
       "    <tr>\n",
       "      <th>3</th>\n",
       "      <td>ЦСКА</td>\n",
       "      <td>Ростов</td>\n",
       "      <td>1 : 3</td>\n",
       "      <td>2019/2020</td>\n",
       "    </tr>\n",
       "    <tr>\n",
       "      <th>4</th>\n",
       "      <td>ЦСКА</td>\n",
       "      <td>Динамо М</td>\n",
       "      <td>0 : 1</td>\n",
       "      <td>2019/2020</td>\n",
       "    </tr>\n",
       "    <tr>\n",
       "      <th>5</th>\n",
       "      <td>ЦСКА</td>\n",
       "      <td>Спартак М</td>\n",
       "      <td>2 : 0</td>\n",
       "      <td>2019/2020</td>\n",
       "    </tr>\n",
       "    <tr>\n",
       "      <th>6</th>\n",
       "      <td>ЦСКА</td>\n",
       "      <td>Арсенал</td>\n",
       "      <td>0 : 1</td>\n",
       "      <td>2019/2020</td>\n",
       "    </tr>\n",
       "    <tr>\n",
       "      <th>7</th>\n",
       "      <td>ЦСКА</td>\n",
       "      <td>Уфа</td>\n",
       "      <td>0 : 0</td>\n",
       "      <td>2019/2020</td>\n",
       "    </tr>\n",
       "    <tr>\n",
       "      <th>8</th>\n",
       "      <td>ЦСКА</td>\n",
       "      <td>Рубин</td>\n",
       "      <td>1 : 1</td>\n",
       "      <td>2019/2020</td>\n",
       "    </tr>\n",
       "    <tr>\n",
       "      <th>9</th>\n",
       "      <td>ЦСКА</td>\n",
       "      <td>Урал</td>\n",
       "      <td>1 : 1</td>\n",
       "      <td>2019/2020</td>\n",
       "    </tr>\n",
       "    <tr>\n",
       "      <th>10</th>\n",
       "      <td>ЦСКА</td>\n",
       "      <td>Сочи</td>\n",
       "      <td>0 : 0</td>\n",
       "      <td>2019/2020</td>\n",
       "    </tr>\n",
       "    <tr>\n",
       "      <th>11</th>\n",
       "      <td>ЦСКА</td>\n",
       "      <td>Ахмат</td>\n",
       "      <td>3 : 0</td>\n",
       "      <td>2019/2020</td>\n",
       "    </tr>\n",
       "    <tr>\n",
       "      <th>12</th>\n",
       "      <td>ЦСКА</td>\n",
       "      <td>Тамбов</td>\n",
       "      <td>2 : 0</td>\n",
       "      <td>2019/2020</td>\n",
       "    </tr>\n",
       "    <tr>\n",
       "      <th>13</th>\n",
       "      <td>ЦСКА</td>\n",
       "      <td>Крылья Советов</td>\n",
       "      <td>1 : 0</td>\n",
       "      <td>2019/2020</td>\n",
       "    </tr>\n",
       "    <tr>\n",
       "      <th>14</th>\n",
       "      <td>ЦСКА</td>\n",
       "      <td>Оренбург</td>\n",
       "      <td>2 : 1</td>\n",
       "      <td>2019/2020</td>\n",
       "    </tr>\n",
       "  </tbody>\n",
       "</table>\n",
       "</div>"
      ],
      "text/plain": [
       "    home            away  score       year\n",
       "0   ЦСКА           Зенит  0 : 4  2019/2020\n",
       "1   ЦСКА     Локомотив М  1 : 0  2019/2020\n",
       "2   ЦСКА       Краснодар  3 : 2  2019/2020\n",
       "3   ЦСКА          Ростов  1 : 3  2019/2020\n",
       "4   ЦСКА        Динамо М  0 : 1  2019/2020\n",
       "5   ЦСКА       Спартак М  2 : 0  2019/2020\n",
       "6   ЦСКА         Арсенал  0 : 1  2019/2020\n",
       "7   ЦСКА             Уфа  0 : 0  2019/2020\n",
       "8   ЦСКА           Рубин  1 : 1  2019/2020\n",
       "9   ЦСКА            Урал  1 : 1  2019/2020\n",
       "10  ЦСКА            Сочи  0 : 0  2019/2020\n",
       "11  ЦСКА           Ахмат  3 : 0  2019/2020\n",
       "12  ЦСКА          Тамбов  2 : 0  2019/2020\n",
       "13  ЦСКА  Крылья Советов  1 : 0  2019/2020\n",
       "14  ЦСКА        Оренбург  2 : 1  2019/2020"
      ]
     },
     "execution_count": 253,
     "metadata": {},
     "output_type": "execute_result"
    }
   ],
   "source": [
    "def more_less(goals, more=True):\n",
    "    if more:\n",
    "        \n",
    "    else:\n",
    "        "
   ]
  },
  {
   "cell_type": "code",
   "execution_count": 254,
   "metadata": {},
   "outputs": [],
   "source": [
    "data.to_csv('russian_premier_league_scores.csv', index=False)"
   ]
  },
  {
   "cell_type": "markdown",
   "metadata": {},
   "source": [
    "### List of things\n",
    "\n",
    "team_names_idx - Approved \n",
    "\\\n",
    "team_match_result"
   ]
  },
  {
   "cell_type": "code",
   "execution_count": 120,
   "metadata": {},
   "outputs": [],
   "source": [
    "league_name = tables[2010].split('\\n')[0]\n",
    "tables[2010].split('\\n')\n",
    "team_names = []\n",
    "team_in_league = 0\n",
    "idx_team_split = {}\n",
    "flag = 0\n",
    "for i, elem in enumerate(tables[2010].split('\\n')[1:]):\n",
    "    if not elem.isdigit():\n",
    "        if flag == 0:\n",
    "            team_in_league = int(tables[2010].split('\\n')[1:][i-2])\n",
    "            flag = 1\n",
    "        if not ':' in elem:\n",
    "            team_names.append(elem)\n",
    "            idx_team_split[elem] = tables[2010].split('\\n').index(elem)\n",
    "\n",
    "season_results = []\n",
    "            \n",
    "team_names_idx = {v+1:k for v,k in enumerate(team_names)}\n",
    "\n",
    "for team in team_names:\n",
    "    team_match_results = {'home':[], 'away':[], 'score':[]}\n",
    "    \n",
    "    c = 0\n",
    "    for i, elem in enumerate(tables[2010].split('\\n')[idx_team_split[team]+1: idx_team_split[team]+16]):\n",
    "        team_match_results['home'].append(team)\n",
    "        team_match_results['away'].append(team_names_idx[i+1])\n",
    "        team_match_results['score'].append(elem)\n",
    "    season_results.append(team_match_results)\n"
   ]
  }
 ],
 "metadata": {
  "kernelspec": {
   "display_name": "Python 3",
   "language": "python",
   "name": "python3"
  },
  "language_info": {
   "codemirror_mode": {
    "name": "ipython",
    "version": 3
   },
   "file_extension": ".py",
   "mimetype": "text/x-python",
   "name": "python",
   "nbconvert_exporter": "python",
   "pygments_lexer": "ipython3",
   "version": "3.8.3"
  }
 },
 "nbformat": 4,
 "nbformat_minor": 4
}
