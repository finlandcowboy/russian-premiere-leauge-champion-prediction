{
 "cells": [
  {
   "cell_type": "code",
   "execution_count": 1,
   "metadata": {},
   "outputs": [],
   "source": [
    "import pandas as pd\n",
    "import numpy as np\n",
    "import collections"
   ]
  },
  {
   "cell_type": "code",
   "execution_count": 2,
   "metadata": {},
   "outputs": [
    {
     "data": {
      "text/html": [
       "<div>\n",
       "<style scoped>\n",
       "    .dataframe tbody tr th:only-of-type {\n",
       "        vertical-align: middle;\n",
       "    }\n",
       "\n",
       "    .dataframe tbody tr th {\n",
       "        vertical-align: top;\n",
       "    }\n",
       "\n",
       "    .dataframe thead th {\n",
       "        text-align: right;\n",
       "    }\n",
       "</style>\n",
       "<table border=\"1\" class=\"dataframe\">\n",
       "  <thead>\n",
       "    <tr style=\"text-align: right;\">\n",
       "      <th></th>\n",
       "      <th>Часть</th>\n",
       "      <th>Год</th>\n",
       "      <th>Команда</th>\n",
       "      <th>Соперник</th>\n",
       "      <th>Минуты</th>\n",
       "      <th>Схема</th>\n",
       "      <th>Забито</th>\n",
       "      <th>Пропущено</th>\n",
       "      <th>Удары</th>\n",
       "      <th>Удары в створ</th>\n",
       "      <th>Передачи</th>\n",
       "      <th>Точные передачи</th>\n",
       "      <th>Навесы</th>\n",
       "      <th>Точные навесы</th>\n",
       "      <th>Владение</th>\n",
       "      <th>xG</th>\n",
       "      <th>PPDA</th>\n",
       "      <th>Победитель</th>\n",
       "      <th>Проигравший</th>\n",
       "    </tr>\n",
       "  </thead>\n",
       "  <tbody>\n",
       "    <tr>\n",
       "      <th>0</th>\n",
       "      <td>1</td>\n",
       "      <td>2018</td>\n",
       "      <td>Ахмат</td>\n",
       "      <td>Арсенал</td>\n",
       "      <td>95</td>\n",
       "      <td>4-2-3-1 (100.0%)</td>\n",
       "      <td>2</td>\n",
       "      <td>0</td>\n",
       "      <td>19</td>\n",
       "      <td>8</td>\n",
       "      <td>422</td>\n",
       "      <td>361</td>\n",
       "      <td>10</td>\n",
       "      <td>3</td>\n",
       "      <td>52.64</td>\n",
       "      <td>3.19</td>\n",
       "      <td>6.36</td>\n",
       "      <td>Ахмат</td>\n",
       "      <td>Арсенал</td>\n",
       "    </tr>\n",
       "    <tr>\n",
       "      <th>1</th>\n",
       "      <td>1</td>\n",
       "      <td>2018</td>\n",
       "      <td>Ахмат</td>\n",
       "      <td>Енисей</td>\n",
       "      <td>94</td>\n",
       "      <td>3-5-2 (100.0%)</td>\n",
       "      <td>1</td>\n",
       "      <td>1</td>\n",
       "      <td>7</td>\n",
       "      <td>2</td>\n",
       "      <td>347</td>\n",
       "      <td>247</td>\n",
       "      <td>10</td>\n",
       "      <td>2</td>\n",
       "      <td>37.84</td>\n",
       "      <td>0.19</td>\n",
       "      <td>19.44</td>\n",
       "      <td>Ничья</td>\n",
       "      <td>Ничья</td>\n",
       "    </tr>\n",
       "    <tr>\n",
       "      <th>2</th>\n",
       "      <td>1</td>\n",
       "      <td>2018</td>\n",
       "      <td>Ахмат</td>\n",
       "      <td>ЦСКА</td>\n",
       "      <td>96</td>\n",
       "      <td>5-3-2 (79.58%)</td>\n",
       "      <td>0</td>\n",
       "      <td>2</td>\n",
       "      <td>11</td>\n",
       "      <td>3</td>\n",
       "      <td>375</td>\n",
       "      <td>291</td>\n",
       "      <td>9</td>\n",
       "      <td>1</td>\n",
       "      <td>46.41</td>\n",
       "      <td>1.02</td>\n",
       "      <td>9.97</td>\n",
       "      <td>ЦСКА</td>\n",
       "      <td>Ахмат</td>\n",
       "    </tr>\n",
       "    <tr>\n",
       "      <th>3</th>\n",
       "      <td>1</td>\n",
       "      <td>2018</td>\n",
       "      <td>Ахмат</td>\n",
       "      <td>КС</td>\n",
       "      <td>94</td>\n",
       "      <td>5-3-2 (100.0%)</td>\n",
       "      <td>2</td>\n",
       "      <td>1</td>\n",
       "      <td>8</td>\n",
       "      <td>2</td>\n",
       "      <td>455</td>\n",
       "      <td>372</td>\n",
       "      <td>14</td>\n",
       "      <td>6</td>\n",
       "      <td>52.39</td>\n",
       "      <td>0.95</td>\n",
       "      <td>9.19</td>\n",
       "      <td>Ахмат</td>\n",
       "      <td>КС</td>\n",
       "    </tr>\n",
       "    <tr>\n",
       "      <th>4</th>\n",
       "      <td>1</td>\n",
       "      <td>2018</td>\n",
       "      <td>Ахмат</td>\n",
       "      <td>Зенит</td>\n",
       "      <td>94</td>\n",
       "      <td>5-3-2 (93.08%)</td>\n",
       "      <td>0</td>\n",
       "      <td>1</td>\n",
       "      <td>11</td>\n",
       "      <td>3</td>\n",
       "      <td>440</td>\n",
       "      <td>357</td>\n",
       "      <td>16</td>\n",
       "      <td>4</td>\n",
       "      <td>48.79</td>\n",
       "      <td>0.62</td>\n",
       "      <td>15.52</td>\n",
       "      <td>Зенит</td>\n",
       "      <td>Ахмат</td>\n",
       "    </tr>\n",
       "  </tbody>\n",
       "</table>\n",
       "</div>"
      ],
      "text/plain": [
       "   Часть   Год Команда Соперник  Минуты             Схема  Забито  Пропущено  \\\n",
       "0      1  2018   Ахмат  Арсенал      95  4-2-3-1 (100.0%)       2          0   \n",
       "1      1  2018   Ахмат   Енисей      94    3-5-2 (100.0%)       1          1   \n",
       "2      1  2018   Ахмат     ЦСКА      96    5-3-2 (79.58%)       0          2   \n",
       "3      1  2018   Ахмат       КС      94    5-3-2 (100.0%)       2          1   \n",
       "4      1  2018   Ахмат    Зенит      94    5-3-2 (93.08%)       0          1   \n",
       "\n",
       "   Удары  Удары в створ  Передачи  Точные передачи  Навесы  Точные навесы  \\\n",
       "0     19              8       422              361      10              3   \n",
       "1      7              2       347              247      10              2   \n",
       "2     11              3       375              291       9              1   \n",
       "3      8              2       455              372      14              6   \n",
       "4     11              3       440              357      16              4   \n",
       "\n",
       "   Владение    xG   PPDA Победитель Проигравший  \n",
       "0     52.64  3.19   6.36      Ахмат     Арсенал  \n",
       "1     37.84  0.19  19.44      Ничья       Ничья  \n",
       "2     46.41  1.02   9.97       ЦСКА       Ахмат  \n",
       "3     52.39  0.95   9.19      Ахмат          КС  \n",
       "4     48.79  0.62  15.52      Зенит       Ахмат  "
      ]
     },
     "execution_count": 2,
     "metadata": {},
     "output_type": "execute_result"
    }
   ],
   "source": [
    "data = pd.read_csv(\"RPL.csv\", encoding = 'cp1251', delimiter=';')\n",
    "data.head()"
   ]
  },
  {
   "cell_type": "code",
   "execution_count": 3,
   "metadata": {},
   "outputs": [
    {
     "data": {
      "text/plain": [
       "['Анжи',\n",
       " 'Ахмат',\n",
       " 'Зенит',\n",
       " 'Краснодар',\n",
       " 'Локомотив',\n",
       " 'Ростов',\n",
       " 'Рубин',\n",
       " 'Спартак',\n",
       " 'Урал',\n",
       " 'Уфа',\n",
       " 'ЦСКА']"
      ]
     },
     "execution_count": 3,
     "metadata": {},
     "output_type": "execute_result"
    }
   ],
   "source": [
    "RPL_2018_2019 = pd.read_csv('Team Name 2018 2019.csv', encoding = 'cp1251')\n",
    "\n",
    "teamList = RPL_2018_2019['Team Name'].tolist()\n",
    "teamList"
   ]
  },
  {
   "cell_type": "markdown",
   "metadata": {},
   "source": [
    "Удаляем матчи с командами, которые не участвуют в сезоне 2018/2019:"
   ]
  },
  {
   "cell_type": "code",
   "execution_count": 4,
   "metadata": {},
   "outputs": [],
   "source": [
    "deleteTeam = [x for x in pd.unique(data['Соперник']) if x not in teamList]\n",
    "for name in deleteTeam:\n",
    "    data = data[data['Команда'] != name]\n",
    "    data = data[data['Соперник'] != name]\n",
    "data = data.reset_index(drop=True)"
   ]
  },
  {
   "cell_type": "code",
   "execution_count": 5,
   "metadata": {},
   "outputs": [],
   "source": [
    "#Функция, возвращающая статистику команды за сезон \n",
    "def GetSeasonTeamStat(team, season):\n",
    "    goalScored = 0 #Голов забито\n",
    "    goalAllowed = 0 #Голов пропущено\n",
    "\n",
    "    gameWin = 0 #Выиграно\n",
    "    gameDraw = 0 #Ничья\n",
    "    gameLost = 0 #Проиграно\n",
    "\n",
    "    totalScore = 0 #Количество набранных очков\n",
    "\n",
    "    matches = 0 #Количество сыгранных матчей\n",
    "    \n",
    "    xG = 0 #Ожидаемые голы\n",
    "    \n",
    "    shot = 0 #Удары\n",
    "    shotOnTarget = 0 #Удары в створ\n",
    "    \n",
    "    cross = 0 #Навесы\n",
    "    accurateCross = 0 #Точные навесы\n",
    "    \n",
    "    totalHandle = 0 #Владение мячом\n",
    "    averageHandle = 0 #Среднее владение мячом за матч\n",
    "    \n",
    "    Pass = 0 #Пасы\n",
    "    accuratePass = 0 #Точные пасы\n",
    "    \n",
    "    PPDA = 0 #Интенсивность прессинга в матче\n",
    "\n",
    "    for i in range(len(data)):\n",
    "        if (((data['Год'][i] == season) and (data['Команда'][i] == team) and (data['Часть'][i] == 2)) or ((data['Год'][i] == season-1) and (data['Команда'][i] == team) and (data['Часть'][i] == 1))):\n",
    "            matches += 1\n",
    "                \n",
    "            goalScored += data['Забито'][i]\n",
    "            goalAllowed += data['Пропущено'][i]\n",
    "\n",
    "            if (data['Забито'][i] > data['Пропущено'][i]):\n",
    "                totalScore += 3\n",
    "                gameWin += 1\n",
    "            elif (data['Забито'][i] < data['Пропущено'][i]):\n",
    "                gameLost +=1\n",
    "            else:\n",
    "                totalScore += 1\n",
    "                gameDraw += 1\n",
    "            \n",
    "            xG += data['xG'][i]\n",
    "            \n",
    "            shot += data['Удары'][i]\n",
    "            shotOnTarget += data['Удары в створ'][i]\n",
    "            \n",
    "            Pass += data['Передачи'][i]\n",
    "            accuratePass += data['Точные передачи'][i]\n",
    "            \n",
    "            totalHandle += data['Владение'][i]\n",
    "            \n",
    "            cross += data['Навесы'][i]\n",
    "            accurateCross += data['Точные навесы'][i]\n",
    "            \n",
    "            PPDA += data['PPDA'][i]\n",
    "\n",
    "    averageHandle = round(totalHandle/matches, 3) #Владение мячом в среднем за матч\n",
    "    \n",
    "    return [gameWin, gameDraw, gameLost, \n",
    "            goalScored, goalAllowed, totalScore, \n",
    "            round(xG, 3), round(PPDA, 3),\n",
    "            shot, shotOnTarget, \n",
    "            Pass, accuratePass,\n",
    "            cross, accurateCross,\n",
    "            round(averageHandle, 3)]"
   ]
  },
  {
   "cell_type": "code",
   "execution_count": 6,
   "metadata": {},
   "outputs": [
    {
     "data": {
      "text/plain": [
       "[11, 4, 5, 39, 26, 37, 34.15, 178.24, 305, 115, 8978, 7364, 303, 119, 52.76]"
      ]
     },
     "execution_count": 6,
     "metadata": {},
     "output_type": "execute_result"
    }
   ],
   "source": [
    "GetSeasonTeamStat(\"Спартак\", 2018) #Статистика Спартака за сезон 2017/2018 "
   ]
  },
  {
   "cell_type": "code",
   "execution_count": 7,
   "metadata": {},
   "outputs": [
    {
     "name": "stdout",
     "output_type": "stream",
     "text": [
      "Выиграно 11\n",
      "Ничья 4\n",
      "Проиграно 5\n",
      "\n",
      "Голов забито 39\n",
      "Голов пропущено 26\n",
      "\n",
      "Набрано очков 37\n",
      "\n",
      "xG (за сезон) 34.15\n",
      "PPDA (за сезон) 178.24\n",
      "\n",
      "Удары 305\n",
      "Удары в створ 115\n",
      "\n",
      "Пасы 8978\n",
      "Точные пасы 7364\n",
      "\n",
      "Навесы 303\n",
      "Точные навесы 119\n",
      "\n",
      "Владение (в среднем за матч) 52.76\n"
     ]
    }
   ],
   "source": [
    "returnNames = [\"Выиграно\", \"Ничья\", \"Проиграно\",\n",
    "               \"\\nГолов забито\", \"Голов пропущено\", \"\\nНабрано очков\",\n",
    "               \"\\nxG (за сезон)\", \"PPDA (за сезон)\",\n",
    "               \"\\nУдары\", \"Удары в створ\", \n",
    "               \"\\nПасы\", \"Точные пасы\",\n",
    "               \"\\nНавесы\", \"Точные навесы\",\n",
    "                \"\\nВладение (в среднем за матч)\"]\n",
    "\n",
    "for i, n in zip(returnNames, GetSeasonTeamStat(\"Спартак\", 2018)):\n",
    "        print(i, n)"
   ]
  },
  {
   "cell_type": "code",
   "execution_count": 8,
   "metadata": {},
   "outputs": [],
   "source": [
    "#Функция, возвращающая статистику всех команд за сезон\n",
    "def GetSeasonAllTeamStat(season):\n",
    "    annual = collections.defaultdict(list)\n",
    "    for team in teamList:\n",
    "        team_vector = GetSeasonTeamStat(team, season)\n",
    "        annual[team] = team_vector\n",
    "    return annual"
   ]
  },
  {
   "cell_type": "markdown",
   "metadata": {},
   "source": [
    "Функция, которая будет возвращать обучающие данные. Она создает словарь с векторами команд за все сезоны. Для каждой игры функция рассчитывает разницу между векторами команд за определенный сезон и записывает в xTrain. Затем функция присваивает yTrain значение 1, если команда хозяев выигрывает, и 0 в противном случае."
   ]
  },
  {
   "cell_type": "code",
   "execution_count": 9,
   "metadata": {},
   "outputs": [],
   "source": [
    "#Получение тренировычных данных\n",
    "def GetTrainingData(seasons):\n",
    "    totalNumGames = 0\n",
    "    for season in seasons:\n",
    "        annual = data[data['Год'] == season]\n",
    "        totalNumGames += len(annual.index)\n",
    "    numFeatures = len(GetSeasonTeamStat('Зенит', 2016)) #случайная команда для определения размерности\n",
    "    xTrain = np.zeros(( totalNumGames, numFeatures))\n",
    "    yTrain = np.zeros(( totalNumGames ))\n",
    "    indexCounter = 0\n",
    "    for season in seasons:\n",
    "        team_vectors = GetSeasonAllTeamStat(season)\n",
    "        annual = data[data['Год'] == season]\n",
    "        numGamesInYear = len(annual.index)\n",
    "        xTrainAnnual = np.zeros(( numGamesInYear, numFeatures))\n",
    "        yTrainAnnual = np.zeros(( numGamesInYear ))\n",
    "        counter = 0\n",
    "        for index, row in annual.iterrows():\n",
    "            team = row['Команда']\n",
    "            t_vector = team_vectors[team]\n",
    "            rivals = row['Соперник']\n",
    "            r_vector = team_vectors[rivals]\n",
    "            \n",
    "            diff = [a - b for a, b in zip(t_vector, r_vector)]\n",
    "            \n",
    "            if len(diff) != 0:\n",
    "                xTrainAnnual[counter] = diff\n",
    "            if team == row['Победитель']:\n",
    "                yTrainAnnual[counter] = 1\n",
    "            else: \n",
    "                yTrainAnnual[counter] = 0\n",
    "            counter += 1   \n",
    "        xTrain[indexCounter:numGamesInYear+indexCounter] = xTrainAnnual\n",
    "        yTrain[indexCounter:numGamesInYear+indexCounter] = yTrainAnnual\n",
    "        indexCounter += numGamesInYear\n",
    "    return xTrain, yTrain"
   ]
  },
  {
   "cell_type": "markdown",
   "metadata": {},
   "source": [
    "Поучаем обучающие данные за все сезоны с 2015/2016 по 2018/2019:"
   ]
  },
  {
   "cell_type": "code",
   "execution_count": 10,
   "metadata": {},
   "outputs": [],
   "source": [
    "years = range(2016,2019)\n",
    "xTrain, yTrain = GetTrainingData(years)"
   ]
  },
  {
   "cell_type": "markdown",
   "metadata": {},
   "source": [
    "Для прогнозирования вероятности выигрыша будем использовать алгоритм машинного обучения LinearRegression из библиотеки Scikit-Learn"
   ]
  },
  {
   "cell_type": "code",
   "execution_count": 11,
   "metadata": {},
   "outputs": [],
   "source": [
    "from sklearn.linear_model import LinearRegression"
   ]
  },
  {
   "cell_type": "code",
   "execution_count": 12,
   "metadata": {},
   "outputs": [
    {
     "data": {
      "text/plain": [
       "LinearRegression(copy_X=True, fit_intercept=True, n_jobs=None,\n",
       "         normalize=False)"
      ]
     },
     "execution_count": 12,
     "metadata": {},
     "output_type": "execute_result"
    }
   ],
   "source": [
    "model = LinearRegression()\n",
    "model.fit(xTrain, yTrain)"
   ]
  },
  {
   "cell_type": "markdown",
   "metadata": {},
   "source": [
    "Функция, которая будет возвращать прогнозы. Она будет возвращать значение в промежутке от 0 до 1, где 0 — это проигрыш, а 1 — это выигрыш."
   ]
  },
  {
   "cell_type": "code",
   "execution_count": 13,
   "metadata": {},
   "outputs": [],
   "source": [
    "def createGamePrediction(team1_vector, team2_vector):\n",
    "    diff = [[a - b for a, b in zip(team1_vector, team2_vector)]]\n",
    "    predictions = model.predict(diff)\n",
    "    return predictions"
   ]
  },
  {
   "cell_type": "code",
   "execution_count": 14,
   "metadata": {},
   "outputs": [
    {
     "name": "stdout",
     "output_type": "stream",
     "text": [
      "Вероятность, что выиграет Зенит: [0.47927615]\n",
      "Вероятность, что выиграет Спартак: [0.24884885]\n"
     ]
    }
   ],
   "source": [
    "team1_name = \"Зенит\"\n",
    "team2_name = \"Спартак\"\n",
    "\n",
    "team1_vector = GetSeasonTeamStat(team1_name, 2019)\n",
    "team2_vector = GetSeasonTeamStat(team2_name, 2019)\n",
    "\n",
    "print ('Вероятность, что выиграет ' + team1_name + ':', createGamePrediction(team1_vector, team2_vector))\n",
    "print ('Вероятность, что выиграет ' + team2_name + ':', createGamePrediction(team2_vector, team1_vector))"
   ]
  },
  {
   "cell_type": "code",
   "execution_count": 15,
   "metadata": {},
   "outputs": [
    {
     "name": "stdout",
     "output_type": "stream",
     "text": [
      "ЦСКА [0.57418478]  -  Анжи [0.15394022]\n",
      "ЦСКА [0.46663608]  -  Ахмат [0.26148892]\n",
      "ЦСКА [0.3644371]  -  Зенит [0.3636879]\n",
      "ЦСКА [0.45534822]  -  Краснодар [0.27277678]\n",
      "ЦСКА [0.50116796]  -  Локомотив [0.22695704]\n",
      "ЦСКА [0.48567862]  -  Ростов [0.24244638]\n",
      "ЦСКА [0.50959235]  -  Рубин [0.21853265]\n",
      "ЦСКА [0.47965075]  -  Спартак [0.24847425]\n",
      "ЦСКА [0.61386723]  -  Урал [0.11425777]\n",
      "ЦСКА [0.49576571]  -  Уфа [0.23235929]\n"
     ]
    }
   ],
   "source": [
    "for team_name in teamList:\n",
    "    team1_name = \"ЦСКА\"\n",
    "    team2_name = team_name\n",
    "    \n",
    "    if(team1_name != team2_name):\n",
    "        team1_vector = GetSeasonTeamStat(team1_name, 2019)\n",
    "        team2_vector = GetSeasonTeamStat(team2_name, 2019)\n",
    "\n",
    "        print(team1_name, createGamePrediction(team1_vector, team2_vector), \" - \", team2_name, createGamePrediction(team2_vector, team1_vector,))"
   ]
  },
  {
   "cell_type": "code",
   "execution_count": null,
   "metadata": {},
   "outputs": [],
   "source": []
  }
 ],
 "metadata": {
  "kernelspec": {
   "display_name": "Python 3",
   "language": "python",
   "name": "python3"
  },
  "language_info": {
   "codemirror_mode": {
    "name": "ipython",
    "version": 3
   },
   "file_extension": ".py",
   "mimetype": "text/x-python",
   "name": "python",
   "nbconvert_exporter": "python",
   "pygments_lexer": "ipython3",
   "version": "3.7.1"
  }
 },
 "nbformat": 4,
 "nbformat_minor": 2
}
